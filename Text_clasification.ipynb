{
 "cells": [
  {
   "cell_type": "code",
   "execution_count": 1,
   "metadata": {},
   "outputs": [
    {
     "name": "stdout",
     "output_type": "stream",
     "text": [
      "Requirement already satisfied: transformers in c:\\users\\yojan\\anaconda3\\lib\\site-packages (4.33.2)\n",
      "Requirement already satisfied: tqdm>=4.27 in c:\\users\\yojan\\anaconda3\\lib\\site-packages (from transformers) (4.64.1)\n",
      "Requirement already satisfied: packaging>=20.0 in c:\\users\\yojan\\anaconda3\\lib\\site-packages (from transformers) (21.3)\n",
      "Requirement already satisfied: requests in c:\\users\\yojan\\anaconda3\\lib\\site-packages (from transformers) (2.28.1)\n",
      "Requirement already satisfied: filelock in c:\\users\\yojan\\anaconda3\\lib\\site-packages (from transformers) (3.6.0)\n",
      "Requirement already satisfied: tokenizers!=0.11.3,<0.14,>=0.11.1 in c:\\users\\yojan\\anaconda3\\lib\\site-packages (from transformers) (0.13.3)\n",
      "Requirement already satisfied: regex!=2019.12.17 in c:\\users\\yojan\\anaconda3\\lib\\site-packages (from transformers) (2022.7.9)\n",
      "Requirement already satisfied: huggingface-hub<1.0,>=0.15.1 in c:\\users\\yojan\\anaconda3\\lib\\site-packages (from transformers) (0.17.2)\n",
      "Requirement already satisfied: numpy>=1.17 in c:\\users\\yojan\\anaconda3\\lib\\site-packages (from transformers) (1.24.3)\n",
      "Requirement already satisfied: safetensors>=0.3.1 in c:\\users\\yojan\\anaconda3\\lib\\site-packages (from transformers) (0.3.3)\n",
      "Requirement already satisfied: pyyaml>=5.1 in c:\\users\\yojan\\anaconda3\\lib\\site-packages (from transformers) (6.0)\n",
      "Requirement already satisfied: typing-extensions>=3.7.4.3 in c:\\users\\yojan\\anaconda3\\lib\\site-packages (from huggingface-hub<1.0,>=0.15.1->transformers) (4.3.0)\n",
      "Requirement already satisfied: fsspec in c:\\users\\yojan\\anaconda3\\lib\\site-packages (from huggingface-hub<1.0,>=0.15.1->transformers) (2023.6.0)\n",
      "Requirement already satisfied: pyparsing!=3.0.5,>=2.0.2 in c:\\users\\yojan\\anaconda3\\lib\\site-packages (from packaging>=20.0->transformers) (3.0.9)\n",
      "Requirement already satisfied: colorama in c:\\users\\yojan\\anaconda3\\lib\\site-packages (from tqdm>=4.27->transformers) (0.4.6)\n",
      "Requirement already satisfied: charset-normalizer<3,>=2 in c:\\users\\yojan\\anaconda3\\lib\\site-packages (from requests->transformers) (2.0.4)\n",
      "Requirement already satisfied: idna<4,>=2.5 in c:\\users\\yojan\\anaconda3\\lib\\site-packages (from requests->transformers) (3.3)\n",
      "Requirement already satisfied: certifi>=2017.4.17 in c:\\users\\yojan\\anaconda3\\lib\\site-packages (from requests->transformers) (2022.9.14)\n",
      "Requirement already satisfied: urllib3<1.27,>=1.21.1 in c:\\users\\yojan\\anaconda3\\lib\\site-packages (from requests->transformers) (1.26.11)\n",
      "Note: you may need to restart the kernel to use updated packages.\n"
     ]
    }
   ],
   "source": [
    "pip install transformers"
   ]
  },
  {
   "cell_type": "code",
   "execution_count": 12,
   "metadata": {},
   "outputs": [],
   "source": [
    "import numpy as np\n",
    "import pandas as pd"
   ]
  },
  {
   "cell_type": "code",
   "execution_count": 123,
   "metadata": {},
   "outputs": [],
   "source": [
    "from transformers import pipeline\n",
    "classifier_robertuito = pipeline(\"sentiment-analysis\", model=\"pysentimiento/robertuito-sentiment-analysis\")"
   ]
  },
  {
   "cell_type": "markdown",
   "metadata": {},
   "source": [
    "# Base completa"
   ]
  },
  {
   "cell_type": "code",
   "execution_count": 18,
   "metadata": {},
   "outputs": [
    {
     "data": {
      "text/html": [
       "<div>\n",
       "<style scoped>\n",
       "    .dataframe tbody tr th:only-of-type {\n",
       "        vertical-align: middle;\n",
       "    }\n",
       "\n",
       "    .dataframe tbody tr th {\n",
       "        vertical-align: top;\n",
       "    }\n",
       "\n",
       "    .dataframe thead th {\n",
       "        text-align: right;\n",
       "    }\n",
       "</style>\n",
       "<table border=\"1\" class=\"dataframe\">\n",
       "  <thead>\n",
       "    <tr style=\"text-align: right;\">\n",
       "      <th></th>\n",
       "      <th>Fecha</th>\n",
       "      <th>Producto</th>\n",
       "      <th>ID Cliente</th>\n",
       "      <th>Nombre Cliente</th>\n",
       "      <th>Tipo de cambio ( solicitud / mantenimiento )</th>\n",
       "      <th>SEGMENTO</th>\n",
       "      <th>P1</th>\n",
       "      <th>P2</th>\n",
       "      <th>P3</th>\n",
       "      <th>P4</th>\n",
       "      <th>P5</th>\n",
       "      <th>Verbatim</th>\n",
       "      <th>CLASIFICACIÓN VERBATIM</th>\n",
       "      <th>AREA SOLICITANTE</th>\n",
       "      <th>ENCUESTA ( MES PROCESO )</th>\n",
       "      <th>GESTION</th>\n",
       "      <th>GESTIÓN A REALIZAR POR LA SECCIÓN2</th>\n",
       "      <th>Respuesta a validacion encuentas</th>\n",
       "      <th>INVESTIGACIÓN E2E</th>\n",
       "      <th>Acciones</th>\n",
       "    </tr>\n",
       "  </thead>\n",
       "  <tbody>\n",
       "    <tr>\n",
       "      <th>0</th>\n",
       "      <td>14 de febrero</td>\n",
       "      <td>Crédito Hipotecario</td>\n",
       "      <td>1005813290</td>\n",
       "      <td>ANDREA MARCELA MENDEZ ORTIZ</td>\n",
       "      <td>Disminución de plazo</td>\n",
       "      <td>PERSONAL</td>\n",
       "      <td>5</td>\n",
       "      <td>5</td>\n",
       "      <td>5</td>\n",
       "      <td>5</td>\n",
       "      <td>5</td>\n",
       "      <td>La atención y gestión de la asesora.</td>\n",
       "      <td>Amabilidad y buen servicio</td>\n",
       "      <td>PIC</td>\n",
       "      <td>Febrero</td>\n",
       "      <td>ok</td>\n",
       "      <td>ok</td>\n",
       "      <td>NaN</td>\n",
       "      <td>NaN</td>\n",
       "      <td>NaN</td>\n",
       "    </tr>\n",
       "    <tr>\n",
       "      <th>1</th>\n",
       "      <td>6 de febrero</td>\n",
       "      <td>Crédito Hipotecario</td>\n",
       "      <td>70978636</td>\n",
       "      <td>JOSE MANUEL RODRIGUEZ BERNA</td>\n",
       "      <td>Cambio de pesos a UVR</td>\n",
       "      <td>PERSONAL</td>\n",
       "      <td>1</td>\n",
       "      <td>1</td>\n",
       "      <td>1</td>\n",
       "      <td>1</td>\n",
       "      <td>1</td>\n",
       "      <td>Me siento engañado por el banco porque en el m...</td>\n",
       "      <td>Falta de claridad en la información</td>\n",
       "      <td>PIC</td>\n",
       "      <td>Febrero</td>\n",
       "      <td>NaN</td>\n",
       "      <td>POSTVENTA: Revisar condiciones en instrumentac...</td>\n",
       "      <td>1. cliente solicita credito en pesos pero vali...</td>\n",
       "      <td>1. ha radicado varios reclamos 8013257881 , 80...</td>\n",
       "      <td>Asesoria comercial\\nrevisar definiciones condi...</td>\n",
       "    </tr>\n",
       "    <tr>\n",
       "      <th>2</th>\n",
       "      <td>24 de febrero</td>\n",
       "      <td>Leasing Habitacional</td>\n",
       "      <td>10528109</td>\n",
       "      <td>ALVARO FERNANDO SANSON GUERRERO</td>\n",
       "      <td>A1- Abono con modificación plazo</td>\n",
       "      <td>PREFERENCIAL</td>\n",
       "      <td>5</td>\n",
       "      <td>5</td>\n",
       "      <td>5</td>\n",
       "      <td>5</td>\n",
       "      <td>5</td>\n",
       "      <td>Todo muy agil y preciso. La amabilidad de los ...</td>\n",
       "      <td>Amabilidad y buen servicio</td>\n",
       "      <td>CAC</td>\n",
       "      <td>Febrero</td>\n",
       "      <td>ok</td>\n",
       "      <td>ok</td>\n",
       "      <td>NaN</td>\n",
       "      <td>NaN</td>\n",
       "      <td>NaN</td>\n",
       "    </tr>\n",
       "    <tr>\n",
       "      <th>3</th>\n",
       "      <td>27 de febrero</td>\n",
       "      <td>Crédito Hipotecario</td>\n",
       "      <td>30300975</td>\n",
       "      <td>MARIA NANCY FRANCO CARDENAS</td>\n",
       "      <td>Disminución de plazo</td>\n",
       "      <td>INDEPENDIENTES</td>\n",
       "      <td>4</td>\n",
       "      <td>4</td>\n",
       "      <td>4</td>\n",
       "      <td>4</td>\n",
       "      <td>3</td>\n",
       "      <td>al principio la asesora me dijo que no era viable</td>\n",
       "      <td>Falta de claridad en la información</td>\n",
       "      <td>PIC</td>\n",
       "      <td>Febrero</td>\n",
       "      <td>Comercial Asesoria</td>\n",
       "      <td>COMERCIAL - Asesoría</td>\n",
       "      <td>NaN</td>\n",
       "      <td>NaN</td>\n",
       "      <td>NaN</td>\n",
       "    </tr>\n",
       "    <tr>\n",
       "      <th>4</th>\n",
       "      <td>22 de febrero</td>\n",
       "      <td>Crédito Hipotecario</td>\n",
       "      <td>1037588239</td>\n",
       "      <td>JUAN FELIPE MONTOYA LONDOÑO</td>\n",
       "      <td>Cambio de pesos a UVR</td>\n",
       "      <td>PERSONAL</td>\n",
       "      <td>3</td>\n",
       "      <td>5</td>\n",
       "      <td>2</td>\n",
       "      <td>5</td>\n",
       "      <td>5</td>\n",
       "      <td>LOS INTERESES DEL CREDITO SON CRIMINALES, YA E...</td>\n",
       "      <td>Falta de claridad en la información</td>\n",
       "      <td>PIC</td>\n",
       "      <td>Febrero</td>\n",
       "      <td>NaN</td>\n",
       "      <td>POSTVENTA: Revisar como lo podemos remitir a f...</td>\n",
       "      <td>1. Credito 90000150515 desembolsado en UVR y m...</td>\n",
       "      <td>1. radico reclamo en sap 8013125977  donde ind...</td>\n",
       "      <td>NaN</td>\n",
       "    </tr>\n",
       "  </tbody>\n",
       "</table>\n",
       "</div>"
      ],
      "text/plain": [
       "           Fecha              Producto  ID Cliente  \\\n",
       "0  14 de febrero   Crédito Hipotecario  1005813290   \n",
       "1   6 de febrero   Crédito Hipotecario    70978636   \n",
       "2  24 de febrero  Leasing Habitacional    10528109   \n",
       "3  27 de febrero   Crédito Hipotecario    30300975   \n",
       "4  22 de febrero   Crédito Hipotecario  1037588239   \n",
       "\n",
       "                    Nombre Cliente  \\\n",
       "0      ANDREA MARCELA MENDEZ ORTIZ   \n",
       "1      JOSE MANUEL RODRIGUEZ BERNA   \n",
       "2  ALVARO FERNANDO SANSON GUERRERO   \n",
       "3      MARIA NANCY FRANCO CARDENAS   \n",
       "4      JUAN FELIPE MONTOYA LONDOÑO   \n",
       "\n",
       "  Tipo de cambio ( solicitud / mantenimiento )        SEGMENTO  P1  P2  P3  \\\n",
       "0                         Disminución de plazo        PERSONAL   5   5   5   \n",
       "1                        Cambio de pesos a UVR        PERSONAL   1   1   1   \n",
       "2             A1- Abono con modificación plazo    PREFERENCIAL   5   5   5   \n",
       "3                         Disminución de plazo  INDEPENDIENTES   4   4   4   \n",
       "4                        Cambio de pesos a UVR        PERSONAL   3   5   2   \n",
       "\n",
       "   P4  P5                                           Verbatim  \\\n",
       "0   5   5               La atención y gestión de la asesora.   \n",
       "1   1   1  Me siento engañado por el banco porque en el m...   \n",
       "2   5   5  Todo muy agil y preciso. La amabilidad de los ...   \n",
       "3   4   3  al principio la asesora me dijo que no era viable   \n",
       "4   5   5  LOS INTERESES DEL CREDITO SON CRIMINALES, YA E...   \n",
       "\n",
       "                CLASIFICACIÓN VERBATIM AREA SOLICITANTE  \\\n",
       "0           Amabilidad y buen servicio              PIC   \n",
       "1  Falta de claridad en la información              PIC   \n",
       "2           Amabilidad y buen servicio              CAC   \n",
       "3  Falta de claridad en la información              PIC   \n",
       "4  Falta de claridad en la información              PIC   \n",
       "\n",
       "  ENCUESTA ( MES PROCESO )             GESTION  \\\n",
       "0                  Febrero                  ok   \n",
       "1                  Febrero                 NaN   \n",
       "2                  Febrero                  ok   \n",
       "3                  Febrero  Comercial Asesoria   \n",
       "4                  Febrero                 NaN   \n",
       "\n",
       "                  GESTIÓN A REALIZAR POR LA SECCIÓN2  \\\n",
       "0                                                 ok   \n",
       "1  POSTVENTA: Revisar condiciones en instrumentac...   \n",
       "2                                                 ok   \n",
       "3                               COMERCIAL - Asesoría   \n",
       "4  POSTVENTA: Revisar como lo podemos remitir a f...   \n",
       "\n",
       "                    Respuesta a validacion encuentas  \\\n",
       "0                                                NaN   \n",
       "1  1. cliente solicita credito en pesos pero vali...   \n",
       "2                                                NaN   \n",
       "3                                                NaN   \n",
       "4  1. Credito 90000150515 desembolsado en UVR y m...   \n",
       "\n",
       "                                   INVESTIGACIÓN E2E  \\\n",
       "0                                                NaN   \n",
       "1  1. ha radicado varios reclamos 8013257881 , 80...   \n",
       "2                                                NaN   \n",
       "3                                                NaN   \n",
       "4  1. radico reclamo en sap 8013125977  donde ind...   \n",
       "\n",
       "                                            Acciones  \n",
       "0                                                NaN  \n",
       "1  Asesoria comercial\\nrevisar definiciones condi...  \n",
       "2                                                NaN  \n",
       "3                                                NaN  \n",
       "4                                                NaN  "
      ]
     },
     "execution_count": 18,
     "metadata": {},
     "output_type": "execute_result"
    }
   ],
   "source": [
    "base_consolidada = pd.read_excel(\"Informe Consolidado Bases 2023 de Experiencia.xlsx\", sheet_name= \"Base Consolidada\")\n",
    "base_consolidada.head()"
   ]
  },
  {
   "cell_type": "code",
   "execution_count": 88,
   "metadata": {},
   "outputs": [
    {
     "data": {
      "text/plain": [
       "(321, 20)"
      ]
     },
     "execution_count": 88,
     "metadata": {},
     "output_type": "execute_result"
    }
   ],
   "source": [
    "base_consolidada.shape"
   ]
  },
  {
   "cell_type": "code",
   "execution_count": 144,
   "metadata": {},
   "outputs": [
    {
     "data": {
      "text/plain": [
       "'Todo muy agil y preciso. La amabilidad de los asesores excelente'"
      ]
     },
     "execution_count": 144,
     "metadata": {},
     "output_type": "execute_result"
    }
   ],
   "source": [
    "verbatims = base_consolidada[\"Verbatim\"].to_numpy().tolist()\n",
    "verbatims[2]"
   ]
  },
  {
   "cell_type": "code",
   "execution_count": 166,
   "metadata": {},
   "outputs": [
    {
     "data": {
      "text/plain": [
       "[{'label': 'NEU', 'score': 0.4909251630306244},\n",
       " {'label': 'NEG', 'score': 0.9759020209312439},\n",
       " {'label': 'POS', 'score': 0.9679266810417175},\n",
       " {'label': 'NEG', 'score': 0.5400736331939697},\n",
       " {'label': 'NEG', 'score': 0.9312734007835388},\n",
       " {'label': 'POS', 'score': 0.962191641330719},\n",
       " {'label': 'POS', 'score': 0.8964368104934692},\n",
       " {'label': 'NEG', 'score': 0.9572692513465881},\n",
       " {'label': 'NEU', 'score': 0.8196012377738953},\n",
       " {'label': 'NEG', 'score': 0.8562747836112976},\n",
       " {'label': 'POS', 'score': 0.8444222211837769},\n",
       " {'label': 'NEU', 'score': 0.7308128476142883},\n",
       " {'label': 'NEU', 'score': 0.5154762268066406},\n",
       " {'label': 'NEG', 'score': 0.8003345131874084},\n",
       " {'label': 'POS', 'score': 0.8863541483879089},\n",
       " {'label': 'POS', 'score': 0.8694957494735718},\n",
       " {'label': 'NEU', 'score': 0.8686655759811401},\n",
       " {'label': 'POS', 'score': 0.9217601418495178},\n",
       " {'label': 'NEG', 'score': 0.9606348276138306},\n",
       " {'label': 'NEU', 'score': 0.5740540027618408},\n",
       " {'label': 'POS', 'score': 0.6557039618492126},\n",
       " {'label': 'NEU', 'score': 0.6820942759513855},\n",
       " {'label': 'POS', 'score': 0.9522963166236877},\n",
       " {'label': 'NEG', 'score': 0.9687792062759399},\n",
       " {'label': 'NEU', 'score': 0.5497884750366211},\n",
       " {'label': 'NEG', 'score': 0.8892531991004944},\n",
       " {'label': 'NEG', 'score': 0.6360712051391602},\n",
       " {'label': 'NEU', 'score': 0.5471929311752319},\n",
       " {'label': 'POS', 'score': 0.9557177424430847},\n",
       " {'label': 'NEG', 'score': 0.6201401948928833}]"
      ]
     },
     "execution_count": 166,
     "metadata": {},
     "output_type": "execute_result"
    }
   ],
   "source": [
    "classifier_robertuito(verbatims[:30])"
   ]
  },
  {
   "cell_type": "markdown",
   "metadata": {},
   "source": [
    "## Preprocessing with a tokenizer"
   ]
  },
  {
   "cell_type": "code",
   "execution_count": 129,
   "metadata": {},
   "outputs": [],
   "source": [
    "from transformers import AutoTokenizer\n",
    "\n",
    "checkpoint = \"pysentimiento/robertuito-sentiment-analysis\"\n",
    "tokenizer = AutoTokenizer.from_pretrained(checkpoint)"
   ]
  },
  {
   "cell_type": "code",
   "execution_count": 158,
   "metadata": {},
   "outputs": [
    {
     "name": "stdout",
     "output_type": "stream",
     "text": [
      "{'input_ids': <tf.Tensor: shape=(120, 128), dtype=int32, numpy=\n",
      "array([[    0,   446,  2831, ...,     1,     1,     1],\n",
      "       [    0,   474,  1617, ...,     1,     1,     1],\n",
      "       [    0,   658,   828, ...,     1,     1,     1],\n",
      "       ...,\n",
      "       [    0,  9581,  1448, ...,     1,     1,     1],\n",
      "       [    0, 16224,     2, ...,     1,     1,     1],\n",
      "       [    0,   471,  4596, ...,     1,     1,     1]])>, 'token_type_ids': <tf.Tensor: shape=(120, 128), dtype=int32, numpy=\n",
      "array([[0, 0, 0, ..., 0, 0, 0],\n",
      "       [0, 0, 0, ..., 0, 0, 0],\n",
      "       [0, 0, 0, ..., 0, 0, 0],\n",
      "       ...,\n",
      "       [0, 0, 0, ..., 0, 0, 0],\n",
      "       [0, 0, 0, ..., 0, 0, 0],\n",
      "       [0, 0, 0, ..., 0, 0, 0]])>, 'attention_mask': <tf.Tensor: shape=(120, 128), dtype=int32, numpy=\n",
      "array([[1, 1, 1, ..., 0, 0, 0],\n",
      "       [1, 1, 1, ..., 0, 0, 0],\n",
      "       [1, 1, 1, ..., 0, 0, 0],\n",
      "       ...,\n",
      "       [1, 1, 1, ..., 0, 0, 0],\n",
      "       [1, 1, 1, ..., 0, 0, 0],\n",
      "       [1, 1, 1, ..., 0, 0, 0]])>}\n"
     ]
    }
   ],
   "source": [
    "inputs = tokenizer(verbatims[:120], padding=True, truncation=True, return_tensors=\"tf\")\n",
    "print(inputs)"
   ]
  },
  {
   "cell_type": "markdown",
   "metadata": {},
   "source": [
    "## Going through the model"
   ]
  },
  {
   "cell_type": "code",
   "execution_count": 159,
   "metadata": {},
   "outputs": [
    {
     "name": "stderr",
     "output_type": "stream",
     "text": [
      "Some layers from the model checkpoint at pysentimiento/robertuito-sentiment-analysis were not used when initializing TFRobertaModel: ['classifier']\n",
      "- This IS expected if you are initializing TFRobertaModel from the checkpoint of a model trained on another task or with another architecture (e.g. initializing a BertForSequenceClassification model from a BertForPreTraining model).\n",
      "- This IS NOT expected if you are initializing TFRobertaModel from the checkpoint of a model that you expect to be exactly identical (initializing a BertForSequenceClassification model from a BertForSequenceClassification model).\n",
      "Some layers of TFRobertaModel were not initialized from the model checkpoint at pysentimiento/robertuito-sentiment-analysis and are newly initialized: ['roberta/pooler/dense/bias:0', 'roberta/pooler/dense/kernel:0']\n",
      "You should probably TRAIN this model on a down-stream task to be able to use it for predictions and inference.\n"
     ]
    }
   ],
   "source": [
    "from transformers import TFAutoModel\n",
    "\n",
    "checkpoint = \"pysentimiento/robertuito-sentiment-analysis\"\n",
    "model = TFAutoModel.from_pretrained(checkpoint)"
   ]
  },
  {
   "cell_type": "code",
   "execution_count": 160,
   "metadata": {},
   "outputs": [
    {
     "name": "stdout",
     "output_type": "stream",
     "text": [
      "(120, 128, 768)\n"
     ]
    }
   ],
   "source": [
    "outputs = model(inputs)\n",
    "print(outputs.last_hidden_state.shape)"
   ]
  },
  {
   "cell_type": "code",
   "execution_count": 161,
   "metadata": {},
   "outputs": [
    {
     "name": "stderr",
     "output_type": "stream",
     "text": [
      "All model checkpoint layers were used when initializing TFRobertaForSequenceClassification.\n",
      "\n",
      "All the layers of TFRobertaForSequenceClassification were initialized from the model checkpoint at pysentimiento/robertuito-sentiment-analysis.\n",
      "If your task is similar to the task the model of the checkpoint was trained on, you can already use TFRobertaForSequenceClassification for predictions without further training.\n"
     ]
    }
   ],
   "source": [
    "from transformers import TFAutoModelForSequenceClassification\n",
    "\n",
    "checkpoint = \"pysentimiento/robertuito-sentiment-analysis\"\n",
    "model = TFAutoModelForSequenceClassification.from_pretrained(checkpoint)\n",
    "outputs = model(inputs)"
   ]
  },
  {
   "cell_type": "code",
   "execution_count": 162,
   "metadata": {},
   "outputs": [
    {
     "name": "stdout",
     "output_type": "stream",
     "text": [
      "(120, 3)\n"
     ]
    }
   ],
   "source": [
    "print(outputs.logits.shape)"
   ]
  },
  {
   "cell_type": "markdown",
   "metadata": {},
   "source": [
    "## Postprocessing the output"
   ]
  },
  {
   "cell_type": "code",
   "execution_count": 163,
   "metadata": {},
   "outputs": [
    {
     "name": "stdout",
     "output_type": "stream",
     "text": [
      "tf.Tensor(\n",
      "[[-2.6344576   2.236011    0.5960978 ]\n",
      " [ 4.4543657  -1.0625751  -3.7273278 ]\n",
      " [-2.8050804  -0.6621889   4.650268  ]\n",
      " [ 1.953229    1.7546555  -3.7626657 ]\n",
      " [ 3.058857   -0.05248839 -3.7850227 ]\n",
      " [-2.520139   -0.751033    4.347985  ]\n",
      " [-2.4052744  -0.35585994  3.9118686 ]\n",
      " [ 4.5311584  -2.004209   -2.9158907 ]\n",
      " [-0.13447618  2.9695332  -2.333219  ]\n",
      " [ 1.8279145   2.0232086  -3.715876  ]\n",
      " [-3.6559558   1.6824533   2.409151  ]\n",
      " [-1.4135528   3.5033185  -2.1312985 ]\n",
      " [-0.54361403  0.983561   -0.53918886]\n",
      " [ 3.7216444  -0.27059633 -3.607942  ]\n",
      " [-2.522455   -0.8716655   4.4637003 ]\n",
      " [-3.7129445   2.5458012   1.6032294 ]\n",
      " [-1.32399     3.0913951  -2.1415496 ]\n",
      " [-3.576511    1.445176    2.9198797 ]\n",
      " [ 4.1756277  -0.8148148  -3.7639637 ]\n",
      " [-0.47799084  1.3016397  -0.78509307]\n",
      " [-2.9667509   0.18080163  3.28468   ]\n",
      " [-1.3483262   2.0628788  -0.9476793 ]\n",
      " [-3.0348687   0.01618944  3.9077945 ]\n",
      " [ 4.659825   -1.7732699  -3.2727466 ]\n",
      " [-0.5580863   1.1693796  -0.6735177 ]\n",
      " [ 2.667263    0.7113781  -3.9509938 ]\n",
      " [ 1.7648504   1.5487589  -3.5158901 ]\n",
      " [-2.1837075   2.4981918  -0.49859983]\n",
      " [-3.4788      0.14044505  4.3554873 ]\n",
      " [ 1.6025575   0.7981911  -2.7150722 ]\n",
      " [ 4.507758   -1.278049   -3.430409  ]\n",
      " [-2.8970504   0.25233287  3.1231575 ]\n",
      " [-3.0077941   1.6001357   2.164323  ]\n",
      " [-2.6721582  -0.9371067   4.71163   ]\n",
      " [ 1.4423923   1.998749   -3.107708  ]\n",
      " [ 3.2987554  -0.06553981 -3.3528657 ]\n",
      " [ 4.294124   -1.2483879  -3.5535684 ]\n",
      " [-0.67553467  1.2084035  -0.35540348]\n",
      " [ 4.456116   -1.266458   -3.6006908 ]\n",
      " [ 0.28749132  0.6604258  -1.1370043 ]\n",
      " [ 3.6836658  -0.0701598  -3.749917  ]\n",
      " [ 1.7329111   1.805761   -3.6334991 ]\n",
      " [ 3.3970644   0.36866295 -4.054137  ]\n",
      " [-2.3677866   0.5755263   2.1224523 ]\n",
      " [-2.4991117   0.46834046  2.293735  ]\n",
      " [-2.1553617  -0.33388296  3.7349331 ]\n",
      " [-2.5550861  -0.8740289   4.5255604 ]\n",
      " [ 3.2475781   0.31543565 -3.861244  ]\n",
      " [ 3.4473963  -0.31028405 -3.4904962 ]\n",
      " [-3.4792027   3.2300053   0.5549695 ]\n",
      " [ 4.6572     -2.329807   -2.7079945 ]\n",
      " [-3.5327787   1.0291275   3.2821684 ]\n",
      " [ 3.535286   -0.73722064 -3.0924659 ]\n",
      " [ 3.4557495   0.106819   -3.9230633 ]\n",
      " [ 4.603059   -2.0604541  -2.8569217 ]\n",
      " [-3.124634   -0.2074697   4.400165  ]\n",
      " [ 3.986589   -1.1076325  -3.2853637 ]\n",
      " [-2.3848507   2.9092739  -0.03075705]\n",
      " [-1.7556077   3.4909408  -1.6549338 ]\n",
      " [ 0.5475092   2.5675538  -2.9273233 ]\n",
      " [-2.9754176   3.404188   -0.552072  ]\n",
      " [-1.5114926   0.04239383  2.055638  ]\n",
      " [-3.3128917   0.609833    3.509797  ]\n",
      " [-2.2378068   2.211624    0.41234884]\n",
      " [-2.5532207  -1.2745732   5.07443   ]\n",
      " [-2.613605   -0.7940141   4.6697426 ]\n",
      " [-0.6594258   1.3276645  -0.7677537 ]\n",
      " [-2.6827526  -0.85759914  4.552254  ]\n",
      " [-1.1665875   3.2407587  -2.3286612 ]\n",
      " [ 4.508851   -1.5651969  -3.4748795 ]\n",
      " [ 4.451655   -2.0432308  -3.0978332 ]\n",
      " [-2.6283667  -0.9439474   4.5737967 ]\n",
      " [-2.400543   -1.181309    4.6926513 ]\n",
      " [-2.607676   -0.52776027  4.346971  ]\n",
      " [-0.47799084  1.3016397  -0.78509307]\n",
      " [-0.47799084  1.3016397  -0.78509307]\n",
      " [ 2.4736438   1.361307   -3.7417316 ]\n",
      " [-2.149513   -0.6061883   3.314045  ]\n",
      " [ 3.5650516  -0.1342652  -3.6585884 ]\n",
      " [ 3.4024      0.10413656 -3.6481776 ]\n",
      " [-1.700323    0.7642126   1.3694509 ]\n",
      " [ 3.3795075   0.3998673  -4.023098  ]\n",
      " [-2.6290069  -0.43567914  3.778977  ]\n",
      " [-0.97905546  2.5178514  -1.2368135 ]\n",
      " [ 0.36685276  2.2784925  -3.0524886 ]\n",
      " [-2.906653    0.9450574   2.1413202 ]\n",
      " [-2.6290069  -0.43567914  3.778977  ]\n",
      " [ 4.0558405  -2.0678513  -2.5744736 ]\n",
      " [-1.1727659   3.5708873  -2.599926  ]\n",
      " [ 4.597761   -1.3532456  -3.535132  ]\n",
      " [ 0.45702717  2.776108   -3.2468948 ]\n",
      " [-2.2997756   1.605055    1.2267817 ]\n",
      " [ 3.5887332  -1.120559   -2.8660514 ]\n",
      " [-2.764595    0.09096666  3.839449  ]\n",
      " [-2.7359085   3.2525222  -0.36514026]\n",
      " [-3.4071162   2.0662937   1.7803918 ]\n",
      " [ 3.3843527   0.5404486  -4.0521173 ]\n",
      " [ 2.090681    1.2672544  -3.555387  ]\n",
      " [-2.3311236   3.7380292  -1.8612802 ]\n",
      " [-2.5765455  -0.03179368  3.072904  ]\n",
      " [ 4.7880383  -1.6692016  -3.5698488 ]\n",
      " [-0.3469091   0.74772906 -0.5330784 ]\n",
      " [ 1.4910997   1.2519605  -2.3832078 ]\n",
      " [ 3.1362038   0.50252366 -4.1675076 ]\n",
      " [ 3.157412    0.371845   -3.9254928 ]\n",
      " [-2.4384274  -0.86146116  4.411717  ]\n",
      " [-2.8031979  -0.12960345  4.0114284 ]\n",
      " [ 0.79023325  2.4429505  -2.975192  ]\n",
      " [-0.13728872  2.624909   -2.5499692 ]\n",
      " [-2.5818448   3.6781332  -1.5870582 ]\n",
      " [-2.581072    0.12903427  3.5201325 ]\n",
      " [ 2.4925032   0.95020235 -3.2944856 ]\n",
      " [-1.5114926   0.04239383  2.055638  ]\n",
      " [-2.6208956   1.2674217   2.320188  ]\n",
      " [-1.6838146   2.493509   -0.7959009 ]\n",
      " [-1.0067103   2.5395927  -1.5937084 ]\n",
      " [-3.251246    0.7770647   3.0841541 ]\n",
      " [-1.970722   -0.280406    3.296587  ]\n",
      " [-0.14874837  0.8721968  -0.81681985]\n",
      " [ 3.436091   -0.11748838 -3.8536901 ]], shape=(120, 3), dtype=float32)\n"
     ]
    }
   ],
   "source": [
    "print(outputs.logits)"
   ]
  },
  {
   "cell_type": "code",
   "execution_count": 139,
   "metadata": {},
   "outputs": [
    {
     "data": {
      "text/plain": [
       "['La atención y gestión de la asesora.',\n",
       " 'Me siento engañado por el banco porque en el momento de aprobación del crédito era en pesos y luego ni nos informaron cuando el desembolso y lo hicieron en uvr. El cual nos a traído muchos problemas. Luego hicimos el cambio de uvr a pesos y nos damos cuenta que el capital sigue subiendo.',\n",
       " 'Todo muy agil y preciso. La amabilidad de los asesores excelente']"
      ]
     },
     "execution_count": 139,
     "metadata": {},
     "output_type": "execute_result"
    }
   ],
   "source": [
    "verbatims[:3]"
   ]
  },
  {
   "cell_type": "code",
   "execution_count": 164,
   "metadata": {},
   "outputs": [
    {
     "name": "stdout",
     "output_type": "stream",
     "text": [
      "tf.Tensor(\n",
      "[[6.38261018e-03 8.32177520e-01 1.61439836e-01]\n",
      " [9.95720565e-01 4.00092499e-03 2.78530613e-04]\n",
      " [5.75171900e-04 4.90279356e-03 9.94521976e-01]\n",
      " [5.48488379e-01 4.49705392e-01 1.80628337e-03]\n",
      " [9.56382275e-01 4.25982177e-02 1.01946504e-03]\n",
      " [1.03304791e-03 6.05945522e-03 9.92907524e-01]\n",
      " [1.77698385e-03 1.37953572e-02 9.84427631e-01]\n",
      " [9.97969687e-01 1.44824933e-03 5.81975910e-04]\n",
      " [4.27385680e-02 9.52519953e-01 4.74152388e-03]\n",
      " [4.50535655e-01 5.47702014e-01 1.76234741e-03]\n",
      " [1.56311074e-03 3.25410336e-01 6.73026502e-01]\n",
      " [7.24309916e-03 9.89223480e-01 3.53355147e-03]\n",
      " [1.51295453e-01 6.96738064e-01 1.51966423e-01]\n",
      " [9.81244266e-01 1.81121100e-02 6.43543899e-04]\n",
      " [9.19314858e-04 4.79063578e-03 9.94289994e-01]\n",
      " [1.37520104e-03 7.18629241e-01 2.79995590e-01]\n",
      " [1.18828062e-02 9.82870817e-01 5.24635334e-03]\n",
      " [1.22637406e-03 1.86000347e-01 8.12773287e-01]\n",
      " [9.92891908e-01 6.75430149e-03 3.53819079e-04]\n",
      " [1.30493104e-01 7.73519456e-01 9.59874988e-02]\n",
      " [1.84150750e-03 4.28684764e-02 9.55290020e-01]\n",
      " [3.04928906e-02 9.23987567e-01 4.55194861e-02]\n",
      " [9.45481588e-04 1.99853033e-02 9.79069173e-01]\n",
      " [9.98037636e-01 1.60431373e-03 3.58158228e-04]\n",
      " [1.33025438e-01 7.48451352e-01 1.18523218e-01]\n",
      " [8.75062943e-01 1.23768255e-01 1.16887211e-03]\n",
      " [5.52257299e-01 4.44932491e-01 2.81024957e-03]\n",
      " [8.74370802e-03 9.44101274e-01 4.71550822e-02]\n",
      " [3.90008761e-04 1.45509960e-02 9.85059023e-01]\n",
      " [6.84602022e-01 3.06271285e-01 9.12673306e-03]\n",
      " [9.96583939e-01 3.06034065e-03 3.55640950e-04]\n",
      " [2.29365262e-03 5.34918271e-02 9.44214582e-01]\n",
      " [3.60277202e-03 3.61272812e-01 6.35124326e-01]\n",
      " [6.18679740e-04 3.50743206e-03 9.95873868e-01]\n",
      " [3.62993300e-01 6.33171320e-01 3.83544061e-03]\n",
      " [9.65364397e-01 3.33884619e-02 1.24717969e-03]\n",
      " [9.95711207e-01 3.89987836e-03 3.88976943e-04]\n",
      " [1.11648612e-01 7.34576821e-01 1.53774559e-01]\n",
      " [9.96424615e-01 3.25958314e-03 3.15804122e-04]\n",
      " [3.71385604e-01 5.39247870e-01 8.93664509e-02]\n",
      " [9.76544380e-01 2.28784289e-02 5.77202241e-04]\n",
      " [4.80713785e-01 5.17040849e-01 2.24535097e-03]\n",
      " [9.53312755e-01 4.61336076e-02 5.53630176e-04]\n",
      " [9.16410703e-03 1.73922107e-01 8.16913784e-01]\n",
      " [7.08784396e-03 1.37804106e-01 8.55108023e-01]\n",
      " [2.71228445e-03 1.67646091e-02 9.80523169e-01]\n",
      " [8.36744439e-04 4.49434714e-03 9.94668901e-01]\n",
      " [9.48676050e-01 5.05480766e-02 7.75882276e-04]\n",
      " [9.76268649e-01 2.27839742e-02 9.47285618e-04]\n",
      " [1.13970868e-03 9.34471130e-01 6.43891469e-02]\n",
      " [9.98445809e-01 9.22371517e-04 6.31918781e-04]\n",
      " [9.91931418e-04 9.49931815e-02 9.04014885e-01]\n",
      " [9.84959781e-01 1.37370164e-02 1.30323414e-03]\n",
      " [9.65487480e-01 3.39097492e-02 6.02794054e-04]\n",
      " [9.98151124e-01 1.27429306e-03 5.74603095e-04]\n",
      " [5.33922750e-04 9.87158716e-03 9.89594460e-01]\n",
      " [9.93219435e-01 6.09049946e-03 6.90043264e-04]\n",
      " [4.74626943e-03 9.45282280e-01 4.99714985e-02]\n",
      " [5.20790927e-03 9.89032507e-01 5.75951207e-03]\n",
      " [1.16691187e-01 8.79695296e-01 3.61357909e-03]\n",
      " [1.66118913e-03 9.79594767e-01 1.87440999e-02]\n",
      " [2.43045017e-02 1.14955828e-01 8.60739708e-01]\n",
      " [1.03093917e-03 5.21015711e-02 9.46867526e-01]\n",
      " [9.92709305e-03 8.49542618e-01 1.40530303e-01]\n",
      " [4.85717435e-04 1.74458930e-03 9.97769713e-01]\n",
      " [6.83516322e-04 4.21684096e-03 9.95099604e-01]\n",
      " [1.08794838e-01 7.93579936e-01 9.76252407e-02]\n",
      " [7.17177929e-04 4.44919011e-03 9.94833589e-01]\n",
      " [1.19955475e-02 9.84251797e-01 3.75264860e-03]\n",
      " [9.97364223e-01 2.29576929e-03 3.40066443e-04]\n",
      " [9.97966647e-01 1.50807563e-03 5.25309239e-04]\n",
      " [7.41443015e-04 3.99587536e-03 9.95262623e-01]\n",
      " [8.27724813e-04 2.80151120e-03 9.96370792e-01]\n",
      " [9.46062792e-04 7.57209398e-03 9.91481900e-01]\n",
      " [1.30493104e-01 7.73519456e-01 9.59874988e-02]\n",
      " [1.30493104e-01 7.73519456e-01 9.59874988e-02]\n",
      " [7.51434386e-01 2.47063935e-01 1.50171609e-03]\n",
      " [4.13880590e-03 1.93701312e-02 9.76491034e-01]\n",
      " [9.75163043e-01 2.41259485e-02 7.11033877e-04]\n",
      " [9.63563681e-01 3.56010459e-02 8.35321145e-04]\n",
      " [2.91587245e-02 3.42848837e-01 6.27992392e-01]\n",
      " [9.51094091e-01 4.83261496e-02 5.79846150e-04]\n",
      " [1.62170676e-03 1.45385982e-02 9.83839691e-01]\n",
      " [2.87472308e-02 9.49037373e-01 2.22153459e-02]\n",
      " [1.28256023e-01 8.67545664e-01 4.19833045e-03]\n",
      " [4.90725180e-03 2.31001526e-01 7.64091194e-01]\n",
      " [1.62170676e-03 1.45385982e-02 9.83839691e-01]\n",
      " [9.96502161e-01 2.18269369e-03 1.31513260e-03]\n",
      " [8.61378200e-03 9.89319026e-01 2.06721714e-03]\n",
      " [9.97111440e-01 2.59569869e-03 2.92868936e-04]\n",
      " [8.93579051e-02 9.08441544e-01 2.20059534e-03]\n",
      " [1.18135801e-02 5.86445749e-01 4.01740730e-01]\n",
      " [9.89526749e-01 8.91677476e-03 1.55650428e-03]\n",
      " [1.32195035e-03 2.29810495e-02 9.75697041e-01]\n",
      " [2.43608933e-03 9.71484125e-01 2.60798372e-02]\n",
      " [2.39066849e-03 5.69627523e-01 4.27981853e-01]\n",
      " [9.44476724e-01 5.49666733e-02 5.56638697e-04]\n",
      " [6.93261862e-01 3.04289967e-01 2.44816719e-03]\n",
      " [2.29930505e-03 9.94022429e-01 3.67829856e-03]\n",
      " [3.35711264e-03 4.27698307e-02 9.53873098e-01]\n",
      " [9.98199582e-01 1.56629540e-03 2.34117062e-04]\n",
      " [2.07544908e-01 6.20165169e-01 1.72289863e-01]\n",
      " [5.53074658e-01 4.35438603e-01 1.14866486e-02]\n",
      " [9.32412446e-01 6.69599846e-02 6.27547328e-04]\n",
      " [9.41146791e-01 5.80632016e-02 7.89934187e-04]\n",
      " [1.05278951e-03 5.09576406e-03 9.93851423e-01]\n",
      " [1.07925176e-03 1.56404823e-02 9.83280301e-01]\n",
      " [1.60145894e-01 8.36145401e-01 3.70862149e-03]\n",
      " [5.90870529e-02 9.35620189e-01 5.29271597e-03]\n",
      " [1.89785101e-03 9.92970049e-01 5.13206935e-03]\n",
      " [2.16250750e-03 3.25043872e-02 9.65333164e-01]\n",
      " [8.21722627e-01 1.75756961e-01 2.52039125e-03]\n",
      " [2.43045017e-02 1.14955828e-01 8.60739708e-01]\n",
      " [5.27007878e-03 2.57330924e-01 7.37399042e-01]\n",
      " [1.45727545e-02 9.50014710e-01 3.54125947e-02]\n",
      " [2.75931768e-02 9.57065225e-01 1.53416330e-02]\n",
      " [1.60937023e-03 9.03918147e-02 9.07998800e-01]\n",
      " [4.99214465e-03 2.70633865e-02 9.67944503e-01]\n",
      " [2.33181015e-01 6.47267878e-01 1.19551070e-01]\n",
      " [9.71529782e-01 2.78071333e-02 6.63047133e-04]], shape=(120, 3), dtype=float32)\n"
     ]
    }
   ],
   "source": [
    "import tensorflow as tf\n",
    "\n",
    "predictions = tf.math.softmax(outputs.logits, axis=-1)\n",
    "print(predictions)"
   ]
  },
  {
   "cell_type": "code",
   "execution_count": 138,
   "metadata": {},
   "outputs": [
    {
     "data": {
      "text/plain": [
       "{0: 'NEG', 1: 'NEU', 2: 'POS'}"
      ]
     },
     "execution_count": 138,
     "metadata": {},
     "output_type": "execute_result"
    }
   ],
   "source": [
    "model.config.id2label"
   ]
  },
  {
   "cell_type": "markdown",
   "metadata": {},
   "source": [
    "## Models"
   ]
  },
  {
   "cell_type": "code",
   "execution_count": 146,
   "metadata": {},
   "outputs": [],
   "source": [
    "from transformers import BertConfig, TFBertModel\n",
    "\n",
    "# Building the config\n",
    "config = BertConfig()\n",
    "\n",
    "# Building the model from the config\n",
    "model = TFBertModel(config)"
   ]
  },
  {
   "cell_type": "code",
   "execution_count": 148,
   "metadata": {},
   "outputs": [
    {
     "name": "stderr",
     "output_type": "stream",
     "text": [
      "Some layers from the model checkpoint at pysentimiento/robertuito-sentiment-analysis were not used when initializing TFRobertaModel: ['classifier']\n",
      "- This IS expected if you are initializing TFRobertaModel from the checkpoint of a model trained on another task or with another architecture (e.g. initializing a BertForSequenceClassification model from a BertForPreTraining model).\n",
      "- This IS NOT expected if you are initializing TFRobertaModel from the checkpoint of a model that you expect to be exactly identical (initializing a BertForSequenceClassification model from a BertForSequenceClassification model).\n",
      "Some layers of TFRobertaModel were not initialized from the model checkpoint at pysentimiento/robertuito-sentiment-analysis and are newly initialized: ['roberta/pooler/dense/bias:0', 'roberta/pooler/dense/kernel:0']\n",
      "You should probably TRAIN this model on a down-stream task to be able to use it for predictions and inference.\n"
     ]
    }
   ],
   "source": [
    "from transformers import TFBertModel\n",
    "\n",
    "model = TFAutoModel.from_pretrained(\"pysentimiento/robertuito-sentiment-analysis\")"
   ]
  },
  {
   "cell_type": "markdown",
   "metadata": {},
   "source": [
    "# Base No clasificados"
   ]
  },
  {
   "cell_type": "code",
   "execution_count": 167,
   "metadata": {},
   "outputs": [
    {
     "data": {
      "text/html": [
       "<div>\n",
       "<style scoped>\n",
       "    .dataframe tbody tr th:only-of-type {\n",
       "        vertical-align: middle;\n",
       "    }\n",
       "\n",
       "    .dataframe tbody tr th {\n",
       "        vertical-align: top;\n",
       "    }\n",
       "\n",
       "    .dataframe thead th {\n",
       "        text-align: right;\n",
       "    }\n",
       "</style>\n",
       "<table border=\"1\" class=\"dataframe\">\n",
       "  <thead>\n",
       "    <tr style=\"text-align: right;\">\n",
       "      <th></th>\n",
       "      <th>Fecha</th>\n",
       "      <th>Producto</th>\n",
       "      <th>ID Cliente</th>\n",
       "      <th>Nombre Cliente</th>\n",
       "      <th>Tipo de cambio ( solicitud / mantenimiento )</th>\n",
       "      <th>SEGMENTO</th>\n",
       "      <th>P1</th>\n",
       "      <th>P2</th>\n",
       "      <th>P3</th>\n",
       "      <th>P4</th>\n",
       "      <th>...</th>\n",
       "      <th>GESTION</th>\n",
       "      <th>GESTIÓN A REALIZAR POR LA SECCIÓN2</th>\n",
       "      <th>Respuesta a validacion encuentas</th>\n",
       "      <th>INVESTIGACIÓN E2E</th>\n",
       "      <th>Acciones</th>\n",
       "      <th>Clasificacion</th>\n",
       "      <th>Recomendación</th>\n",
       "      <th>Éxito</th>\n",
       "      <th>Esfuerzo</th>\n",
       "      <th>Emoción</th>\n",
       "    </tr>\n",
       "  </thead>\n",
       "  <tbody>\n",
       "    <tr>\n",
       "      <th>0</th>\n",
       "      <td>2 de febrero</td>\n",
       "      <td>Crédito Hipotecario</td>\n",
       "      <td>52852931</td>\n",
       "      <td>ANA CECILIA BURGOS GONZALEZ</td>\n",
       "      <td>Disminución de plazo</td>\n",
       "      <td>PREFERENCIAL</td>\n",
       "      <td>2</td>\n",
       "      <td>3</td>\n",
       "      <td>2</td>\n",
       "      <td>3</td>\n",
       "      <td>...</td>\n",
       "      <td>NaN</td>\n",
       "      <td>POSTVENTA: Buscar solicitudes abiertas o cance...</td>\n",
       "      <td>Mediante el PRG_2023_281168 del 26 de enero se...</td>\n",
       "      <td>1. se valida con el asesor Diego E Bustamante ...</td>\n",
       "      <td>Es VIP comunicar mediante comunicado y hacer l...</td>\n",
       "      <td>NC</td>\n",
       "      <td>detractor</td>\n",
       "      <td>2</td>\n",
       "      <td>3</td>\n",
       "      <td>2</td>\n",
       "    </tr>\n",
       "    <tr>\n",
       "      <th>1</th>\n",
       "      <td>9 de febrero</td>\n",
       "      <td>Crédito Hipotecario</td>\n",
       "      <td>8784159</td>\n",
       "      <td>GILBERTO URIBE BARLETTA</td>\n",
       "      <td>Disminución de plazo</td>\n",
       "      <td>PLUS</td>\n",
       "      <td>5</td>\n",
       "      <td>5</td>\n",
       "      <td>5</td>\n",
       "      <td>5</td>\n",
       "      <td>...</td>\n",
       "      <td>ok</td>\n",
       "      <td>ok</td>\n",
       "      <td>NaN</td>\n",
       "      <td>NaN</td>\n",
       "      <td>NaN</td>\n",
       "      <td>NC</td>\n",
       "      <td>promotor</td>\n",
       "      <td>5</td>\n",
       "      <td>5</td>\n",
       "      <td>5</td>\n",
       "    </tr>\n",
       "    <tr>\n",
       "      <th>2</th>\n",
       "      <td>6 de febrero</td>\n",
       "      <td>Leasing Habitacional</td>\n",
       "      <td>43566444</td>\n",
       "      <td>DIANA CECILIA RENDON RAMIREZ</td>\n",
       "      <td>A4- Aplicación, Reversión o reclasificación No...</td>\n",
       "      <td>PREFERENCIAL</td>\n",
       "      <td>5</td>\n",
       "      <td>5</td>\n",
       "      <td>5</td>\n",
       "      <td>5</td>\n",
       "      <td>...</td>\n",
       "      <td>ok</td>\n",
       "      <td>ok</td>\n",
       "      <td>NaN</td>\n",
       "      <td>NaN</td>\n",
       "      <td>NaN</td>\n",
       "      <td>NC</td>\n",
       "      <td>promotor</td>\n",
       "      <td>5</td>\n",
       "      <td>5</td>\n",
       "      <td>5</td>\n",
       "    </tr>\n",
       "    <tr>\n",
       "      <th>3</th>\n",
       "      <td>27 de febrero</td>\n",
       "      <td>Leasing Habitacional</td>\n",
       "      <td>78691382</td>\n",
       "      <td>EUGENIO ENRIQUE SALAS MARQUEZ</td>\n",
       "      <td>D2- Copia o solicitud documentos</td>\n",
       "      <td>PREFERENCIAL</td>\n",
       "      <td>1</td>\n",
       "      <td>1</td>\n",
       "      <td>1</td>\n",
       "      <td>1</td>\n",
       "      <td>...</td>\n",
       "      <td>Postventa</td>\n",
       "      <td>POSTVENTA: Escuchar la llamada y que necesita ...</td>\n",
       "      <td>NaN</td>\n",
       "      <td>NaN</td>\n",
       "      <td>NaN</td>\n",
       "      <td>POS</td>\n",
       "      <td>detractor</td>\n",
       "      <td>1</td>\n",
       "      <td>1</td>\n",
       "      <td>1</td>\n",
       "    </tr>\n",
       "    <tr>\n",
       "      <th>4</th>\n",
       "      <td>14 de febrero</td>\n",
       "      <td>Leasing Habitacional</td>\n",
       "      <td>1143824623</td>\n",
       "      <td>DANIELA RIVERA MEJIA</td>\n",
       "      <td>A8- Identificación Pagos</td>\n",
       "      <td>PLUS</td>\n",
       "      <td>1</td>\n",
       "      <td>1</td>\n",
       "      <td>1</td>\n",
       "      <td>1</td>\n",
       "      <td>...</td>\n",
       "      <td>Postventa</td>\n",
       "      <td>POSTVENTA: Revisar la solicitud del cliente, q...</td>\n",
       "      <td>NaN</td>\n",
       "      <td>NaN</td>\n",
       "      <td>NaN</td>\n",
       "      <td>NC</td>\n",
       "      <td>detractor</td>\n",
       "      <td>1</td>\n",
       "      <td>1</td>\n",
       "      <td>1</td>\n",
       "    </tr>\n",
       "  </tbody>\n",
       "</table>\n",
       "<p>5 rows × 25 columns</p>\n",
       "</div>"
      ],
      "text/plain": [
       "           Fecha              Producto  ID Cliente  \\\n",
       "0   2 de febrero   Crédito Hipotecario    52852931   \n",
       "1   9 de febrero   Crédito Hipotecario     8784159   \n",
       "2   6 de febrero  Leasing Habitacional    43566444   \n",
       "3  27 de febrero  Leasing Habitacional    78691382   \n",
       "4  14 de febrero  Leasing Habitacional  1143824623   \n",
       "\n",
       "                  Nombre Cliente  \\\n",
       "0    ANA CECILIA BURGOS GONZALEZ   \n",
       "1        GILBERTO URIBE BARLETTA   \n",
       "2   DIANA CECILIA RENDON RAMIREZ   \n",
       "3  EUGENIO ENRIQUE SALAS MARQUEZ   \n",
       "4           DANIELA RIVERA MEJIA   \n",
       "\n",
       "        Tipo de cambio ( solicitud / mantenimiento )      SEGMENTO  P1  P2  \\\n",
       "0                               Disminución de plazo  PREFERENCIAL   2   3   \n",
       "1                               Disminución de plazo          PLUS   5   5   \n",
       "2  A4- Aplicación, Reversión o reclasificación No...  PREFERENCIAL   5   5   \n",
       "3                   D2- Copia o solicitud documentos  PREFERENCIAL   1   1   \n",
       "4                           A8- Identificación Pagos          PLUS   1   1   \n",
       "\n",
       "   P3  P4  ...    GESTION                 GESTIÓN A REALIZAR POR LA SECCIÓN2  \\\n",
       "0   2   3  ...        NaN  POSTVENTA: Buscar solicitudes abiertas o cance...   \n",
       "1   5   5  ...         ok                                                 ok   \n",
       "2   5   5  ...         ok                                                 ok   \n",
       "3   1   1  ...  Postventa  POSTVENTA: Escuchar la llamada y que necesita ...   \n",
       "4   1   1  ...  Postventa  POSTVENTA: Revisar la solicitud del cliente, q...   \n",
       "\n",
       "                    Respuesta a validacion encuentas  \\\n",
       "0  Mediante el PRG_2023_281168 del 26 de enero se...   \n",
       "1                                                NaN   \n",
       "2                                                NaN   \n",
       "3                                                NaN   \n",
       "4                                                NaN   \n",
       "\n",
       "                                   INVESTIGACIÓN E2E  \\\n",
       "0  1. se valida con el asesor Diego E Bustamante ...   \n",
       "1                                                NaN   \n",
       "2                                                NaN   \n",
       "3                                                NaN   \n",
       "4                                                NaN   \n",
       "\n",
       "                                            Acciones Clasificacion  \\\n",
       "0  Es VIP comunicar mediante comunicado y hacer l...            NC   \n",
       "1                                                NaN            NC   \n",
       "2                                                NaN            NC   \n",
       "3                                                NaN           POS   \n",
       "4                                                NaN            NC   \n",
       "\n",
       "  Recomendación Éxito Esfuerzo Emoción  \n",
       "0     detractor     2        3       2  \n",
       "1      promotor     5        5       5  \n",
       "2      promotor     5        5       5  \n",
       "3     detractor     1        1       1  \n",
       "4     detractor     1        1       1  \n",
       "\n",
       "[5 rows x 25 columns]"
      ]
     },
     "execution_count": 167,
     "metadata": {},
     "output_type": "execute_result"
    }
   ],
   "source": [
    "base_NC = pd.read_excel(\"Verbatims No Clasificados.xlsx\")\n",
    "base_NC.head()"
   ]
  },
  {
   "cell_type": "code",
   "execution_count": 168,
   "metadata": {},
   "outputs": [
    {
     "data": {
      "text/plain": [
       "(66, 25)"
      ]
     },
     "execution_count": 168,
     "metadata": {},
     "output_type": "execute_result"
    }
   ],
   "source": [
    "base_NC.shape"
   ]
  },
  {
   "cell_type": "code",
   "execution_count": 170,
   "metadata": {},
   "outputs": [
    {
     "data": {
      "text/plain": [
       "['Solicite una segunda modificaciòn y el asesor nunca me enviò la documentaciòn',\n",
       " 'Primero agradecido por la atención de la asesora encargada del proceso, al banco el aceptar el cambio de tiempo de la hipoteca.',\n",
       " 'Por la asesoría de mi asesora, pude lograr el cambio, ella es excelente yo la amo!!.. Feliz tarde!!',\n",
       " 'Poca eficiencia ,no tienen representantes en mi ciudad, poca claridad y',\n",
       " 'No se resolvió la error por parte del banco',\n",
       " 'Me siento engañado por el banco porque en el momento de aprobación del crédito era en pesos y luego ni nos informaron cuando el desembolso y lo hicieron en uvr. El cual nos a traído muchos problemas. Luego hicimos el cambio de uvr a pesos y nos damos cuenta que el capital sigue subiendo.',\n",
       " 'LOS INTERESES DEL CREDITO SON CRIMINALES, YA ESTOY BUSCANDO COMPRA DE CARTERA',\n",
       " 'Lo peor tener esta clase de créditos',\n",
       " 'La tasa pactada es mes vencido, un ajuste por unos dias en el mes del corte no debería alterar la tasa. Es matemática financiera ya que la tasa tiene implícito el mes entero Calendario y ademas en el contrato no hay tasa dia vencido pactada',\n",
       " 'La persona con la que hablé no me contesto bien ni eficiente mis preguntas. No sabía como poder hacer abono a capital, no en asesoro bien. Terrible el servicio de leasing de bancolombia aunque se que es un tercero quien administra']"
      ]
     },
     "execution_count": 170,
     "metadata": {},
     "output_type": "execute_result"
    }
   ],
   "source": [
    "verbatims_NC = base_NC[\"Verbatim\"].to_numpy().tolist()\n",
    "verbatims_NC[:10]"
   ]
  },
  {
   "cell_type": "code",
   "execution_count": 195,
   "metadata": {},
   "outputs": [
    {
     "data": {
      "text/plain": [
       "['Atendieron mi requerimiento con mucho compromiso',\n",
       " 'Cumplieron con lo prometido inicialmente para el cambio del crédito',\n",
       " 'Velocidad',\n",
       " 'Son tasas no competitivas, siendo uno cliente del banco deberia uno tener un mejor trato.',\n",
       " 'acceder a cualquier canal de leasing es casi imposible, el servicio del Banco es muy bueno y los canales apropiados, pero los de leasing son muy regulares. La sucursal virtual de leasing es cero amigable, la información no aparece completa, toca llamar a lalínea que es complicadísimo que atiendan. De verdad es muy complejo el servicio con leasing, siempre ha sido así y parece no mejorar con el tiempo. Gracias por leer mis comentarios.',\n",
       " 'Mo me contactaron solo cambiaron la tasa',\n",
       " 'cobertura y credibilidad',\n",
       " 'No me parece bien que siendo una persona tan puntual con mis pagos no me quisieran hacer un mejoramiento de tasa',\n",
       " 'falta de informacion por parte del banco cuando se realiza un abono que se debe sacar cita para cambiar las condiciones',\n",
       " 'Me habían reducido la tasa de mi crédito y luego me la volvieron a aumentar. Aumentando el valor adeudado de mi crédito más de 1 millón. Si eso no es un robo no sé que lo sea.',\n",
       " 'Los servicios que prestan se están refinando y es satisfactorio que no se pierde el tiempo en oficinas, agradezco mantengan ese nivel de atención',\n",
       " 'Mi requisición y dudas fueron gratamente resueltas',\n",
       " 'Atención fatal y cero fidelización al cliente.',\n",
       " 'En el proceso final, una vez la otra entidad les solicitó la compra de cartera, fue buena la atención y fue efectiva; antes de la compra de cartera, cuando me comunique con Bancolombia a confirmarles de la oferta que me realizó la otra entidad y enviarles las evidencias, me sentí burlado y me hicieron perder 2 meses de mi tiempo y dinero, sin necesidad alguna, fue una falta de respeto.',\n",
       " 'NO SE DISMINUYO LA TASA EN UN % SIGNIFICATIVO',\n",
       " 'Pude realizar el abono a capital',\n",
       " 'Si hubiese tenido está información antes habría logrado un ahorro considerable.',\n",
       " 'Recibí los documentos requeridos',\n",
       " 'Perfecto en tiempo apropiado',\n",
       " 'el motivo es que cada vez que hago un abono a capital debo ir a la oficina para que me apliquen el pago como trabajo el unico momento en que puedo ir es al medio dia y eso me implico la ultima vez estar esperando casi dos horas para que me atendieran.',\n",
       " 'YO ESPERABA DADO A TIEMPO QUE LLEVO CON USTEDES Y MIS CUENTAS TAMBIEN LAS TENGO CON USTEDES ME BAN A REALIZAR UN MEJOR DESCUETNO DE LA TASA DE INTERES.',\n",
       " 'RESULTADOS POSITIVOS',\n",
       " 'Fue resuelta',\n",
       " 'No he podido diligenciar los documentos. Hay un documento que tiene un error en los datos. Es incómodo tener que llevar estos documentos físicos a una oficina específica',\n",
       " 'Nunca he recibido mi plan de pagos en mi correo electrónico y no había podido ver el estado de mi crédito,  ya Joy lo solicité, espero si sea efectiva la solicitud,  claudiaiglp@gmail.com.  gracias.',\n",
       " 'Me parece que he sido una cifra más y me siento profundamente incorforme con la tabla de amortización utilizada para el monto adeudado y la forma de pagos con abonos a capital ..es deshonestano',\n",
       " 'efectividad',\n",
       " 'Los asesores desconecten información de ciertos productos',\n",
       " 'No hubo ningún tipo de trabas ni reprocesos',\n",
       " 'Solicite una cosa y me enviaron otra']"
      ]
     },
     "execution_count": 195,
     "metadata": {},
     "output_type": "execute_result"
    }
   ],
   "source": [
    "verbatims_NC[36:66]"
   ]
  },
  {
   "cell_type": "code",
   "execution_count": 196,
   "metadata": {},
   "outputs": [
    {
     "data": {
      "text/plain": [
       "[{'label': 'POS', 'score': 0.8047773241996765},\n",
       " {'label': 'NEU', 'score': 0.7662239074707031},\n",
       " {'label': 'NEU', 'score': 0.49578964710235596},\n",
       " {'label': 'NEG', 'score': 0.6002419590950012},\n",
       " {'label': 'NEG', 'score': 0.976251482963562},\n",
       " {'label': 'NEU', 'score': 0.6273913383483887},\n",
       " {'label': 'NEU', 'score': 0.7835972309112549},\n",
       " {'label': 'NEG', 'score': 0.9735121130943298},\n",
       " {'label': 'NEG', 'score': 0.9192532896995544},\n",
       " {'label': 'NEG', 'score': 0.789150595664978},\n",
       " {'label': 'POS', 'score': 0.9459633231163025},\n",
       " {'label': 'POS', 'score': 0.8532167077064514},\n",
       " {'label': 'NEG', 'score': 0.9542195796966553},\n",
       " {'label': 'NEG', 'score': 0.9518623948097229},\n",
       " {'label': 'NEG', 'score': 0.6285861730575562},\n",
       " {'label': 'NEU', 'score': 0.6291567087173462},\n",
       " {'label': 'NEU', 'score': 0.6150169372558594},\n",
       " {'label': 'NEU', 'score': 0.7294523119926453},\n",
       " {'label': 'POS', 'score': 0.711682915687561},\n",
       " {'label': 'NEG', 'score': 0.768030047416687},\n",
       " {'label': 'NEU', 'score': 0.7506303191184998},\n",
       " {'label': 'NEU', 'score': 0.6383613348007202},\n",
       " {'label': 'NEU', 'score': 0.555439829826355},\n",
       " {'label': 'NEG', 'score': 0.9761518836021423},\n",
       " {'label': 'NEU', 'score': 0.7703065276145935},\n",
       " {'label': 'NEG', 'score': 0.9622542262077332},\n",
       " {'label': 'NEU', 'score': 0.5771840214729309},\n",
       " {'label': 'NEU', 'score': 0.663830041885376},\n",
       " {'label': 'NEU', 'score': 0.6667061448097229},\n",
       " {'label': 'NEG', 'score': 0.6858295202255249}]"
      ]
     },
     "execution_count": 196,
     "metadata": {},
     "output_type": "execute_result"
    }
   ],
   "source": [
    "classifier_robertuito(verbatims_NC[36:66])"
   ]
  }
 ],
 "metadata": {
  "kernelspec": {
   "display_name": "base",
   "language": "python",
   "name": "python3"
  },
  "language_info": {
   "codemirror_mode": {
    "name": "ipython",
    "version": 3
   },
   "file_extension": ".py",
   "mimetype": "text/x-python",
   "name": "python",
   "nbconvert_exporter": "python",
   "pygments_lexer": "ipython3",
   "version": "3.9.13"
  },
  "orig_nbformat": 4
 },
 "nbformat": 4,
 "nbformat_minor": 2
}

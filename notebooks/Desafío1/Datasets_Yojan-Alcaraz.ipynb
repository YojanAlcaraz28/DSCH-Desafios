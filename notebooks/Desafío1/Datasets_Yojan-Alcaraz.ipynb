{
 "cells": [
  {
   "attachments": {},
   "cell_type": "markdown",
   "metadata": {},
   "source": [
    "# Datasets potenciales - Proyecto Final - Curso Data Science - CoderHouse"
   ]
  },
  {
   "attachments": {},
   "cell_type": "markdown",
   "metadata": {},
   "source": [
    "**Autor:** Yojan Andrés Alcaraz Pérez\n",
    "\n",
    "**Fecha:** Enero 14 de 2023.\n"
   ]
  },
  {
   "attachments": {},
   "cell_type": "markdown",
   "metadata": {},
   "source": [
    "En este archivo se presentan, como candidatos para el proyecto final del curso Data Science de CoderHouse tres datasets y una breve descripción de cada una de las variables que podrían ser más relevantes."
   ]
  },
  {
   "cell_type": "code",
   "execution_count": null,
   "metadata": {},
   "outputs": [],
   "source": [
    "# Importación de las librerías necesarias:\n",
    "import pandas as pd"
   ]
  }
 ],
 "metadata": {
  "language_info": {
   "name": "python"
  },
  "orig_nbformat": 4
 },
 "nbformat": 4,
 "nbformat_minor": 2
}
